{
 "cells": [
  {
   "cell_type": "markdown",
   "metadata": {},
   "source": [
    "# SVD Example in Python"
   ]
  },
  {
   "cell_type": "markdown",
   "metadata": {},
   "source": [
    "## Python SVD Basics"
   ]
  },
  {
   "cell_type": "code",
   "execution_count": 83,
   "metadata": {},
   "outputs": [],
   "source": [
    "import numpy as np\n",
    "from numpy import ndarray"
   ]
  },
  {
   "cell_type": "code",
   "execution_count": 2,
   "metadata": {},
   "outputs": [
    {
     "name": "stdout",
     "output_type": "stream",
     "text": [
      "0.9644674918390902 0.9644674918390896 1.6600846198124851e-15\n"
     ]
    }
   ],
   "source": [
    "X = np.random.normal(size=[20,18])\n",
    "P, D, Q = np.linalg.svd(X, full_matrices=False)\n",
    "X_a = np.matmul(np.matmul(P, np.diag(D)), Q)\n",
    "print(np.std(X), np.std(X_a), np.std(X - X_a))"
   ]
  },
  {
   "cell_type": "markdown",
   "metadata": {},
   "source": [
    "First lets define a matrix:"
   ]
  },
  {
   "cell_type": "code",
   "execution_count": 7,
   "metadata": {},
   "outputs": [
    {
     "name": "stdout",
     "output_type": "stream",
     "text": [
      "[[1 2 3]\n",
      " [4 5 6]]\n"
     ]
    }
   ],
   "source": [
    "A = np.matrix('1 2 3; 4 5 6')\n",
    "print (A)"
   ]
  },
  {
   "cell_type": "markdown",
   "metadata": {},
   "source": [
    "Next lets perform the SVD on that matrix:"
   ]
  },
  {
   "cell_type": "code",
   "execution_count": 140,
   "metadata": {},
   "outputs": [
    {
     "name": "stdout",
     "output_type": "stream",
     "text": [
      "U = \n",
      " [[-0.3863177  -0.92236578]\n",
      " [-0.92236578  0.3863177 ]] \n",
      "\n",
      "S = \n",
      " [9.508032   0.77286964] \n",
      "\n",
      "V = \n",
      " [[-0.42866713 -0.56630692 -0.7039467 ]\n",
      " [ 0.80596391  0.11238241 -0.58119908]\n",
      " [ 0.40824829 -0.81649658  0.40824829]]\n"
     ]
    }
   ],
   "source": [
    "U, S, V = np.linalg.svd(A, full_matrices = True)\n",
    "print('U = \\n', U, '\\n\\nS = \\n', S, '\\n\\nV = \\n', V)"
   ]
  },
  {
   "cell_type": "markdown",
   "metadata": {},
   "source": [
    "Let's do the same thing but make S a diagonal matrix.\n",
    "This is because numpy just gives the singular values without placing the zeros."
   ]
  },
  {
   "cell_type": "code",
   "execution_count": 168,
   "metadata": {},
   "outputs": [
    {
     "name": "stdout",
     "output_type": "stream",
     "text": [
      "U = \n",
      " [[-0.3863177  -0.92236578]\n",
      " [-0.92236578  0.3863177 ]] \n",
      "\n",
      "S = \n",
      " [[9.508032   0.        ]\n",
      " [0.         0.77286964]] \n",
      "\n",
      "V = \n",
      " [[-0.42866713 -0.56630692 -0.7039467 ]\n",
      " [ 0.80596391  0.11238241 -0.58119908]\n",
      " [ 0.40824829 -0.81649658  0.40824829]]\n"
     ]
    }
   ],
   "source": [
    "U, S, V = np.linalg.svd(A, full_matrices = True)\n",
    "S = np.diag(S)\n",
    "print('U = \\n', U, '\\n\\nS = \\n', S, '\\n\\nV = \\n', V)"
   ]
  },
  {
   "cell_type": "markdown",
   "metadata": {},
   "source": [
    "Oops, S is not the right size still, we need S to have one more column of zeros:"
   ]
  },
  {
   "cell_type": "code",
   "execution_count": 173,
   "metadata": {},
   "outputs": [
    {
     "name": "stdout",
     "output_type": "stream",
     "text": [
      "[[0. 0. 0.]\n",
      " [0. 0. 0.]]\n",
      "\n",
      "U = \n",
      " [[-0.3863177  -0.92236578]\n",
      " [-0.92236578  0.3863177 ]] \n",
      "\n",
      "S_new = \n",
      " [[9.508032   0.         0.        ]\n",
      " [0.         0.77286964 0.        ]] \n",
      "\n",
      "V = \n",
      " [[-0.42866713 -0.56630692 -0.7039467 ]\n",
      " [ 0.80596391  0.11238241 -0.58119908]\n",
      " [ 0.40824829 -0.81649658  0.40824829]]\n"
     ]
    }
   ],
   "source": [
    "S_dim = S.shape # create a tuple of the dimensions\n",
    "S_new = np.zeros((S_dim[0], S_dim[1]+1)) # matrix of zeros one more column than S\n",
    "print(S_new)\n",
    "\n",
    "S_new[:,:-1] = S\n",
    "print('\\nU = \\n', U, '\\n\\nS_new = \\n', S_new, '\\n\\nV = \\n', V)"
   ]
  },
  {
   "cell_type": "markdown",
   "metadata": {},
   "source": [
    "Much better.\n",
    "\n",
    "Now, lets varify that we can reconstruct A with these three matricies."
   ]
  },
  {
   "cell_type": "code",
   "execution_count": 116,
   "metadata": {},
   "outputs": [
    {
     "data": {
      "text/plain": [
       "matrix([[-0.42866713,  0.80596391,  0.40824829],\n",
       "        [-0.56630692,  0.11238241, -0.81649658],\n",
       "        [-0.7039467 , -0.58119908,  0.40824829]])"
      ]
     },
     "execution_count": 116,
     "metadata": {},
     "output_type": "execute_result"
    }
   ],
   "source": [
    "V.getH()"
   ]
  },
  {
   "cell_type": "code",
   "execution_count": 118,
   "metadata": {},
   "outputs": [
    {
     "ename": "ValueError",
     "evalue": "shapes (2,2) and (3,3) not aligned: 2 (dim 1) != 3 (dim 0)",
     "output_type": "error",
     "traceback": [
      "\u001b[0;31m---------------------------------------------------------------------------\u001b[0m",
      "\u001b[0;31mValueError\u001b[0m                                Traceback (most recent call last)",
      "\u001b[0;32m<ipython-input-118-df5b7f294e3e>\u001b[0m in \u001b[0;36m<module>\u001b[0;34m\u001b[0m\n\u001b[0;32m----> 1\u001b[0;31m \u001b[0mU\u001b[0m \u001b[0;34m@\u001b[0m \u001b[0mS_new\u001b[0m \u001b[0;34m@\u001b[0m \u001b[0mV\u001b[0m\u001b[0;34m\u001b[0m\u001b[0;34m\u001b[0m\u001b[0m\n\u001b[0m",
      "\u001b[0;31mValueError\u001b[0m: shapes (2,2) and (3,3) not aligned: 2 (dim 1) != 3 (dim 0)"
     ]
    }
   ],
   "source": [
    "U @ S_new @ V"
   ]
  },
  {
   "cell_type": "code",
   "execution_count": 48,
   "metadata": {},
   "outputs": [
    {
     "data": {
      "text/plain": [
       "True"
      ]
     },
     "execution_count": 48,
     "metadata": {},
     "output_type": "execute_result"
    }
   ],
   "source": [
    "a = np.random.randn(9, 6) + 1j*np.random.randn(9, 6)\n",
    "\n",
    "u, s, vh = np.linalg.svd(a, full_matrices=True)\n",
    "u.shape, s.shape, vh.shape\n",
    "\n",
    "np.allclose(a, np.dot(u[:, :6] * s, vh))\n",
    "\n",
    "smat = np.zeros((9, 6), dtype=complex)\n",
    "smat[:6, :6] = np.diag(s)\n",
    "np.allclose(a, np.dot(u, np.dot(smat, vh)))"
   ]
  },
  {
   "cell_type": "code",
   "execution_count": 50,
   "metadata": {},
   "outputs": [
    {
     "name": "stdout",
     "output_type": "stream",
     "text": [
      "1.002606521919355 1.0026065219193547 1.3311551713181252e-15\n",
      "Is X close to X_a? True\n"
     ]
    }
   ],
   "source": [
    "import numpy as np\n",
    "X = np.random.normal(size=[20,18])\n",
    "P, D, Q = np.linalg.svd(X, full_matrices=False)\n",
    "X_a = P @ np.diag(D) @ Q\n",
    "print(np.std(X), np.std(X_a), np.std(X - X_a))\n",
    "print('Is X close to X_a?', np.isclose(X, X_a).all())"
   ]
  },
  {
   "cell_type": "markdown",
   "metadata": {},
   "source": [
    "Python SVD on Image"
   ]
  },
  {
   "cell_type": "markdown",
   "metadata": {},
   "source": [
    "View the documentation on the numpy linear algebra [here](https://docs.scipy.org/doc/numpy-1.16.1/reference/routines.linalg.html)."
   ]
  }
 ],
 "metadata": {
  "kernelspec": {
   "display_name": "Python 3",
   "language": "python",
   "name": "python3"
  },
  "language_info": {
   "codemirror_mode": {
    "name": "ipython",
    "version": 3
   },
   "file_extension": ".py",
   "mimetype": "text/x-python",
   "name": "python",
   "nbconvert_exporter": "python",
   "pygments_lexer": "ipython3",
   "version": "3.7.1"
  }
 },
 "nbformat": 4,
 "nbformat_minor": 2
}
