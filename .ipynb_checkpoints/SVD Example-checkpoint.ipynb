{
 "cells": [
  {
   "cell_type": "markdown",
   "metadata": {},
   "source": [
    "# SVD Example in Python"
   ]
  },
  {
   "cell_type": "markdown",
   "metadata": {},
   "source": [
    "## Python SVD Basics"
   ]
  },
  {
   "cell_type": "code",
   "execution_count": 83,
   "metadata": {},
   "outputs": [],
   "source": [
    "import numpy as np\n",
    "from numpy import ndarray"
   ]
  },
  {
   "cell_type": "markdown",
   "metadata": {},
   "source": [
    "View the documentation on the numpy linear algebra [here](https://docs.scipy.org/doc/numpy-1.16.1/reference/routines.linalg.html)."
   ]
  },
  {
   "cell_type": "markdown",
   "metadata": {},
   "source": [
    "First lets define a matrix:"
   ]
  },
  {
   "cell_type": "code",
   "execution_count": 177,
   "metadata": {},
   "outputs": [
    {
     "name": "stdout",
     "output_type": "stream",
     "text": [
      "[[1 2 3]\n",
      " [4 5 6]]\n"
     ]
    }
   ],
   "source": [
    "A = np.matrix('1 2 3; 4 5 6')\n",
    "print (A)"
   ]
  },
  {
   "cell_type": "markdown",
   "metadata": {},
   "source": [
    "Next lets perform the SVD on that matrix:"
   ]
  },
  {
   "cell_type": "code",
   "execution_count": 178,
   "metadata": {},
   "outputs": [
    {
     "name": "stdout",
     "output_type": "stream",
     "text": [
      "U = \n",
      " [[-0.3863177  -0.92236578]\n",
      " [-0.92236578  0.3863177 ]] \n",
      "\n",
      "S = \n",
      " [9.508032   0.77286964] \n",
      "\n",
      "V = \n",
      " [[-0.42866713 -0.56630692 -0.7039467 ]\n",
      " [ 0.80596391  0.11238241 -0.58119908]\n",
      " [ 0.40824829 -0.81649658  0.40824829]]\n"
     ]
    }
   ],
   "source": [
    "U, S, V = np.linalg.svd(A, full_matrices = True)\n",
    "print('U = \\n', U, '\\n\\nS = \\n', S, '\\n\\nV = \\n', V)"
   ]
  },
  {
   "cell_type": "markdown",
   "metadata": {},
   "source": [
    "Let's do the same thing but make S a diagonal matrix.\n",
    "This is because numpy just gives the singular values without placing the zeros."
   ]
  },
  {
   "cell_type": "code",
   "execution_count": 180,
   "metadata": {},
   "outputs": [
    {
     "name": "stdout",
     "output_type": "stream",
     "text": [
      "U = \n",
      " [[-0.3863177  -0.92236578]\n",
      " [-0.92236578  0.3863177 ]] \n",
      "\n",
      "S = \n",
      " [[9.508032   0.        ]\n",
      " [0.         0.77286964]] \n",
      "\n",
      "V = \n",
      " [[-0.42866713 -0.56630692 -0.7039467 ]\n",
      " [ 0.80596391  0.11238241 -0.58119908]\n",
      " [ 0.40824829 -0.81649658  0.40824829]]\n"
     ]
    }
   ],
   "source": [
    "U, S, V = np.linalg.svd(A, full_matrices = True)\n",
    "S = np.diag(S)\n",
    "print('U = \\n', U, '\\n\\nS = \\n', S, '\\n\\nV = \\n', V)"
   ]
  },
  {
   "cell_type": "markdown",
   "metadata": {},
   "source": [
    "Oops, S is not the right size still, we need S to have one more column of zeros:"
   ]
  },
  {
   "cell_type": "code",
   "execution_count": 181,
   "metadata": {},
   "outputs": [
    {
     "name": "stdout",
     "output_type": "stream",
     "text": [
      "[[0. 0. 0.]\n",
      " [0. 0. 0.]]\n",
      "\n",
      "U = \n",
      " [[-0.3863177  -0.92236578]\n",
      " [-0.92236578  0.3863177 ]] \n",
      "\n",
      "S_new = \n",
      " [[9.508032   0.         0.        ]\n",
      " [0.         0.77286964 0.        ]] \n",
      "\n",
      "V = \n",
      " [[-0.42866713 -0.56630692 -0.7039467 ]\n",
      " [ 0.80596391  0.11238241 -0.58119908]\n",
      " [ 0.40824829 -0.81649658  0.40824829]]\n"
     ]
    }
   ],
   "source": [
    "S_dim = S.shape # create a tuple of the dimensions\n",
    "S_new = np.zeros((S_dim[0], S_dim[1]+1)) # matrix of zeros one more column than S\n",
    "print(S_new)\n",
    "\n",
    "S_new[:,:-1] = S\n",
    "print('\\nU = \\n', U, '\\n\\nS_new = \\n', S_new, '\\n\\nV = \\n', V)"
   ]
  },
  {
   "cell_type": "markdown",
   "metadata": {},
   "source": [
    "Much better.\n",
    "\n",
    "Now, lets varify that we can reconstruct A with these three matricies.\n"
   ]
  },
  {
   "cell_type": "code",
   "execution_count": 182,
   "metadata": {},
   "outputs": [
    {
     "data": {
      "text/plain": [
       "matrix([[1., 2., 3.],\n",
       "        [4., 5., 6.]])"
      ]
     },
     "execution_count": 182,
     "metadata": {},
     "output_type": "execute_result"
    }
   ],
   "source": [
    "U @ S_new @ V"
   ]
  },
  {
   "cell_type": "markdown",
   "metadata": {},
   "source": [
    "As a quick note, we do not need to find the complex conjugate transponse like we did in matlab. When using the SVD tool in numpy, V is returned that way by default.\n",
    "\n",
    "Sweet! Now time for SVD on an image."
   ]
  },
  {
   "cell_type": "markdown",
   "metadata": {},
   "source": [
    "## Python SVD on Image"
   ]
  }
 ],
 "metadata": {
  "kernelspec": {
   "display_name": "Python 3",
   "language": "python",
   "name": "python3"
  },
  "language_info": {
   "codemirror_mode": {
    "name": "ipython",
    "version": 3
   },
   "file_extension": ".py",
   "mimetype": "text/x-python",
   "name": "python",
   "nbconvert_exporter": "python",
   "pygments_lexer": "ipython3",
   "version": "3.7.1"
  }
 },
 "nbformat": 4,
 "nbformat_minor": 2
}
